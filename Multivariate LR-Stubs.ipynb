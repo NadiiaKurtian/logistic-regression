{
 "cells": [
  {
   "cell_type": "code",
   "metadata": {
    "ExecuteTime": {
     "end_time": "2025-03-21T11:50:51.761910Z",
     "start_time": "2025-03-21T11:50:48.528250Z"
    }
   },
   "source": [
    "import numpy as np\n",
    "import pandas as pd\n",
    "import matplotlib.pyplot as plt\n",
    "from sklearn.datasets import make_classification, make_moons\n",
    "from sklearn.model_selection import train_test_split\n",
    "from plots import plot_data, plot_decision_boundary\n",
    "from metrics import evaluate_classification\n",
    "\n",
    "%matplotlib inline\n"
   ],
   "outputs": [
    {
     "ename": "KeyboardInterrupt",
     "evalue": "",
     "output_type": "error",
     "traceback": [
      "\u001B[31m---------------------------------------------------------------------------\u001B[39m",
      "\u001B[31mKeyboardInterrupt\u001B[39m                         Traceback (most recent call last)",
      "\u001B[36mCell\u001B[39m\u001B[36m \u001B[39m\u001B[32mIn[13]\u001B[39m\u001B[32m, line 6\u001B[39m\n\u001B[32m      4\u001B[39m \u001B[38;5;28;01mfrom\u001B[39;00m\u001B[38;5;250m \u001B[39m\u001B[34;01msklearn\u001B[39;00m\u001B[34;01m.\u001B[39;00m\u001B[34;01mdatasets\u001B[39;00m\u001B[38;5;250m \u001B[39m\u001B[38;5;28;01mimport\u001B[39;00m make_classification, make_moons\n\u001B[32m      5\u001B[39m \u001B[38;5;28;01mfrom\u001B[39;00m\u001B[38;5;250m \u001B[39m\u001B[34;01msklearn\u001B[39;00m\u001B[34;01m.\u001B[39;00m\u001B[34;01mmodel_selection\u001B[39;00m\u001B[38;5;250m \u001B[39m\u001B[38;5;28;01mimport\u001B[39;00m train_test_split\n\u001B[32m----> \u001B[39m\u001B[32m6\u001B[39m \u001B[38;5;28;01mfrom\u001B[39;00m\u001B[38;5;250m \u001B[39m\u001B[34;01mplots\u001B[39;00m\u001B[38;5;250m \u001B[39m\u001B[38;5;28;01mimport\u001B[39;00m plot_data, plot_decision_boundary\n\u001B[32m      7\u001B[39m \u001B[38;5;28;01mfrom\u001B[39;00m\u001B[38;5;250m \u001B[39m\u001B[34;01mmetrics\u001B[39;00m\u001B[38;5;250m \u001B[39m\u001B[38;5;28;01mimport\u001B[39;00m evaluate_classification\n\u001B[32m      9\u001B[39m get_ipython().run_line_magic(\u001B[33m'\u001B[39m\u001B[33mmatplotlib\u001B[39m\u001B[33m'\u001B[39m, \u001B[33m'\u001B[39m\u001B[33minline\u001B[39m\u001B[33m'\u001B[39m)\n",
      "\u001B[36mFile \u001B[39m\u001B[32m~\\PycharmProjects\\logistic-regression\\plots.py:3\u001B[39m\n\u001B[32m      1\u001B[39m \u001B[38;5;28;01mimport\u001B[39;00m\u001B[38;5;250m \u001B[39m\u001B[34;01mmatplotlib\u001B[39;00m\u001B[34;01m.\u001B[39;00m\u001B[34;01mpyplot\u001B[39;00m\u001B[38;5;250m \u001B[39m\u001B[38;5;28;01mas\u001B[39;00m\u001B[38;5;250m \u001B[39m\u001B[34;01mplt\u001B[39;00m\n\u001B[32m      2\u001B[39m \u001B[38;5;28;01mimport\u001B[39;00m\u001B[38;5;250m \u001B[39m\u001B[34;01mnumpy\u001B[39;00m\u001B[38;5;250m \u001B[39m\u001B[38;5;28;01mas\u001B[39;00m\u001B[38;5;250m \u001B[39m\u001B[34;01mnp\u001B[39;00m\n\u001B[32m----> \u001B[39m\u001B[32m3\u001B[39m \u001B[38;5;28;01mimport\u001B[39;00m\u001B[38;5;250m \u001B[39m\u001B[34;01mtorch\u001B[39;00m\n\u001B[32m      6\u001B[39m \u001B[38;5;28;01mdef\u001B[39;00m\u001B[38;5;250m \u001B[39m\u001B[34mplot_data\u001B[39m(x, y):\n\u001B[32m      7\u001B[39m     plt.scatter(x[:, \u001B[32m0\u001B[39m], x[:, \u001B[32m1\u001B[39m], c=y, s=\u001B[32m40\u001B[39m, cmap=\u001B[33m\"\u001B[39m\u001B[33mSpectral\u001B[39m\u001B[33m\"\u001B[39m)\n",
      "\u001B[36mFile \u001B[39m\u001B[32m~\\AppData\\Local\\Packages\\PythonSoftwareFoundation.Python.3.13_qbz5n2kfra8p0\\LocalCache\\local-packages\\Python313\\site-packages\\torch\\__init__.py:274\u001B[39m\n\u001B[32m    270\u001B[39m                     \u001B[38;5;28;01mraise\u001B[39;00m err\n\u001B[32m    272\u001B[39m         kernel32.SetErrorMode(prev_error_mode)\n\u001B[32m--> \u001B[39m\u001B[32m274\u001B[39m     \u001B[43m_load_dll_libraries\u001B[49m\u001B[43m(\u001B[49m\u001B[43m)\u001B[49m\n\u001B[32m    275\u001B[39m     \u001B[38;5;28;01mdel\u001B[39;00m _load_dll_libraries\n\u001B[32m    278\u001B[39m \u001B[38;5;28;01mdef\u001B[39;00m\u001B[38;5;250m \u001B[39m\u001B[34m_preload_cuda_deps\u001B[39m(lib_folder: \u001B[38;5;28mstr\u001B[39m, lib_name: \u001B[38;5;28mstr\u001B[39m) -> \u001B[38;5;28;01mNone\u001B[39;00m:\n",
      "\u001B[36mFile \u001B[39m\u001B[32m~\\AppData\\Local\\Packages\\PythonSoftwareFoundation.Python.3.13_qbz5n2kfra8p0\\LocalCache\\local-packages\\Python313\\site-packages\\torch\\__init__.py:250\u001B[39m, in \u001B[36m_load_dll_libraries\u001B[39m\u001B[34m()\u001B[39m\n\u001B[32m    248\u001B[39m is_loaded = \u001B[38;5;28;01mFalse\u001B[39;00m\n\u001B[32m    249\u001B[39m \u001B[38;5;28;01mif\u001B[39;00m with_load_library_flags:\n\u001B[32m--> \u001B[39m\u001B[32m250\u001B[39m     res = \u001B[43mkernel32\u001B[49m\u001B[43m.\u001B[49m\u001B[43mLoadLibraryExW\u001B[49m\u001B[43m(\u001B[49m\u001B[43mdll\u001B[49m\u001B[43m,\u001B[49m\u001B[43m \u001B[49m\u001B[38;5;28;43;01mNone\u001B[39;49;00m\u001B[43m,\u001B[49m\u001B[43m \u001B[49m\u001B[32;43m0x00001100\u001B[39;49m\u001B[43m)\u001B[49m\n\u001B[32m    251\u001B[39m     last_error = ctypes.get_last_error()\n\u001B[32m    252\u001B[39m     \u001B[38;5;28;01mif\u001B[39;00m res \u001B[38;5;129;01mis\u001B[39;00m \u001B[38;5;28;01mNone\u001B[39;00m \u001B[38;5;129;01mand\u001B[39;00m last_error != \u001B[32m126\u001B[39m:\n",
      "\u001B[31mKeyboardInterrupt\u001B[39m: "
     ]
    }
   ],
   "execution_count": 13
  },
  {
   "cell_type": "code",
   "metadata": {
    "ExecuteTime": {
     "end_time": "2025-03-21T11:59:16.486611Z",
     "start_time": "2025-03-21T11:59:16.482751Z"
    }
   },
   "source": [
    "def load_dataset(filename, data_columns, target_column):\n",
    "    \"\"\"Load dataset from CSV file.\n",
    "\n",
    "    Args:\n",
    "        filename (str): Path to CSV file.\n",
    "        data_columns (list): List of column names for data.\n",
    "        target_column (str): Name of target column.\n",
    "\n",
    "    Returns:\n",
    "        tuple: Tuple containing data and target.\n",
    "    \"\"\"\n",
    "    \n",
    "    df = pd.read_csv(filename)\n",
    "    X, y = df[data_columns], df[target_column]\n",
    "    return X.values, y.values"
   ],
   "outputs": [],
   "execution_count": 14
  },
  {
   "cell_type": "code",
   "metadata": {
    "ExecuteTime": {
     "end_time": "2025-03-21T11:59:17.166537Z",
     "start_time": "2025-03-21T11:59:17.158820Z"
    }
   },
   "source": [
    "class LogisticRegression:\n",
    "    def __init__(self, learning_rate=0.01, max_iter=1000, tol=1e-4, verbose=False):\n",
    "        self.learning_rate = learning_rate\n",
    "        self.max_iter = max_iter\n",
    "        self.tol = tol\n",
    "        self.verbose = verbose\n",
    "        self.theta = None\n",
    "        self.mean = None\n",
    "        self.std = None\n",
    "\n",
    "    def normalize(self, X):\n",
    "        self.mean = np.mean(X, axis=0)\n",
    "        self.std = np.std(X, axis=0)\n",
    "        return (X - self.mean) / self.std\n",
    "\n",
    "    def add_intercept(self, X):\n",
    "        return np.column_stack((np.ones(X.shape[0]), X))\n",
    "\n",
    "    def sigmoid(self, z):\n",
    "        return 1 / (1 + np.exp(-z))\n",
    "\n",
    "    def hypothesis(self, X, theta):\n",
    "        return self.sigmoid(np.dot(X, theta))\n",
    "\n",
    "    def cost_function(self, X, y, theta):\n",
    "        m = len(y)\n",
    "        h = self.hypothesis(X, theta)\n",
    "        return (-1/m) * np.sum(y * np.log(h) + (1 - y) * np.log(1 - h))\n",
    "\n",
    "    def gradient(self, X, y, theta):\n",
    "        m = len(y)\n",
    "        return (1/m) * np.dot(X.T, (self.hypothesis(X, theta) - y))\n",
    "\n",
    "    def gradient_descent(self, X, y):\n",
    "        m, n = X.shape\n",
    "        theta = np.zeros(n)\n",
    "        costs = []\n",
    "\n",
    "        for i in range(self.max_iter):\n",
    "            theta -= self.learning_rate * self.gradient(X, y, theta)\n",
    "            cost = self.cost_function(X, y, theta)\n",
    "            costs.append(cost)\n",
    "            if self.verbose and i % 100 == 0:\n",
    "                print(f\"Iteration {i}: Cost {cost}\")\n",
    "            if i > 0 and abs(costs[-1] - costs[-2]) < self.tol:\n",
    "                break\n",
    "\n",
    "        return theta, costs\n",
    "\n",
    "    def fit(self, X, y):\n",
    "        X = self.normalize(X)\n",
    "        X = self.add_intercept(X)\n",
    "        self.theta, self.costs = self.gradient_descent(X, y)\n",
    "\n",
    "    def predict_proba(self, X):\n",
    "        X = (X - self.mean) / self.std\n",
    "        X = self.add_intercept(X)\n",
    "        return self.hypothesis(X, self.theta)\n",
    "\n",
    "    def predict(self, X):\n",
    "        return (self.predict_proba(X) >= 0.5).astype(int)\n"
   ],
   "outputs": [],
   "execution_count": 15
  },
  {
   "cell_type": "code",
   "metadata": {
    "ExecuteTime": {
     "end_time": "2025-03-21T11:59:24.679427Z",
     "start_time": "2025-03-21T11:59:24.651735Z"
    }
   },
   "source": [
    "X, y = make_classification(n_samples = 200, n_classes = 2, n_features = 2, \n",
    "                           n_informative=2, n_redundant=0, random_state = 42,\n",
    "                           flip_y=0.02, class_sep=0.8)\n",
    "plot_data(X, y)"
   ],
   "outputs": [
    {
     "ename": "NameError",
     "evalue": "name 'plot_data' is not defined",
     "output_type": "error",
     "traceback": [
      "\u001B[31m---------------------------------------------------------------------------\u001B[39m",
      "\u001B[31mNameError\u001B[39m                                 Traceback (most recent call last)",
      "\u001B[36mCell\u001B[39m\u001B[36m \u001B[39m\u001B[32mIn[16]\u001B[39m\u001B[32m, line 4\u001B[39m\n\u001B[32m      1\u001B[39m X, y = make_classification(n_samples = \u001B[32m200\u001B[39m, n_classes = \u001B[32m2\u001B[39m, n_features = \u001B[32m2\u001B[39m, \n\u001B[32m      2\u001B[39m                            n_informative=\u001B[32m2\u001B[39m, n_redundant=\u001B[32m0\u001B[39m, random_state = \u001B[32m42\u001B[39m,\n\u001B[32m      3\u001B[39m                            flip_y=\u001B[32m0.02\u001B[39m, class_sep=\u001B[32m0.8\u001B[39m)\n\u001B[32m----> \u001B[39m\u001B[32m4\u001B[39m \u001B[43mplot_data\u001B[49m(X, y)\n",
      "\u001B[31mNameError\u001B[39m: name 'plot_data' is not defined"
     ]
    }
   ],
   "execution_count": 16
  },
  {
   "cell_type": "code",
   "metadata": {
    "ExecuteTime": {
     "end_time": "2025-03-21T11:59:25.260613Z",
     "start_time": "2025-03-21T11:59:25.256743Z"
    }
   },
   "source": [
    "X_train, X_test, y_train, y_test = train_test_split(X, y, test_size=0.2, random_state=42)"
   ],
   "outputs": [],
   "execution_count": 17
  },
  {
   "cell_type": "code",
   "metadata": {
    "ExecuteTime": {
     "end_time": "2025-03-21T11:59:25.836343Z",
     "start_time": "2025-03-21T11:59:25.816776Z"
    }
   },
   "source": [
    "lr = LogisticRegression(standardize=True, learning_rate=0.01, max_iter=1000, tol=1e-4, verbose=True)"
   ],
   "outputs": [
    {
     "ename": "TypeError",
     "evalue": "LogisticRegression.__init__() got an unexpected keyword argument 'standardize'",
     "output_type": "error",
     "traceback": [
      "\u001B[31m---------------------------------------------------------------------------\u001B[39m",
      "\u001B[31mTypeError\u001B[39m                                 Traceback (most recent call last)",
      "\u001B[36mCell\u001B[39m\u001B[36m \u001B[39m\u001B[32mIn[18]\u001B[39m\u001B[32m, line 1\u001B[39m\n\u001B[32m----> \u001B[39m\u001B[32m1\u001B[39m lr = \u001B[43mLogisticRegression\u001B[49m\u001B[43m(\u001B[49m\u001B[43mstandardize\u001B[49m\u001B[43m=\u001B[49m\u001B[38;5;28;43;01mTrue\u001B[39;49;00m\u001B[43m,\u001B[49m\u001B[43m \u001B[49m\u001B[43mlearning_rate\u001B[49m\u001B[43m=\u001B[49m\u001B[32;43m0.01\u001B[39;49m\u001B[43m,\u001B[49m\u001B[43m \u001B[49m\u001B[43mmax_iter\u001B[49m\u001B[43m=\u001B[49m\u001B[32;43m1000\u001B[39;49m\u001B[43m,\u001B[49m\u001B[43m \u001B[49m\u001B[43mtol\u001B[49m\u001B[43m=\u001B[49m\u001B[32;43m1e-4\u001B[39;49m\u001B[43m,\u001B[49m\u001B[43m \u001B[49m\u001B[43mverbose\u001B[49m\u001B[43m=\u001B[49m\u001B[38;5;28;43;01mTrue\u001B[39;49;00m\u001B[43m)\u001B[49m\n",
      "\u001B[31mTypeError\u001B[39m: LogisticRegression.__init__() got an unexpected keyword argument 'standardize'"
     ]
    }
   ],
   "execution_count": 18
  },
  {
   "cell_type": "code",
   "metadata": {
    "ExecuteTime": {
     "end_time": "2025-03-21T11:59:26.229722Z",
     "start_time": "2025-03-21T11:59:26.206131Z"
    }
   },
   "source": [
    "lr.fit(X_train, y_train)"
   ],
   "outputs": [
    {
     "name": "stdout",
     "output_type": "stream",
     "text": [
      "Iteration 0: Cost 0.6921363335378605\n",
      "Iteration 100: Cost 0.6130846701491595\n",
      "Iteration 200: Cost 0.5643761426137045\n",
      "Iteration 300: Cost 0.5328717909721297\n",
      "Iteration 400: Cost 0.5114832641163253\n",
      "Iteration 500: Cost 0.49634877623337864\n"
     ]
    }
   ],
   "execution_count": 19
  },
  {
   "cell_type": "code",
   "metadata": {
    "ExecuteTime": {
     "end_time": "2025-03-21T11:59:28.167409Z",
     "start_time": "2025-03-21T11:59:28.164006Z"
    }
   },
   "source": [
    "y_test_pred = lr.predict(X_test)"
   ],
   "outputs": [],
   "execution_count": 20
  },
  {
   "cell_type": "code",
   "metadata": {
    "ExecuteTime": {
     "end_time": "2025-03-21T11:59:28.805527Z",
     "start_time": "2025-03-21T11:59:28.784557Z"
    }
   },
   "source": [
    "accuracy, report, confusion = evaluate_classification(y_test, y_test_pred)\n",
    "print(f\"Accuracy: \\n{accuracy}\")\n",
    "print(f\"Report: \\n{report}\")\n",
    "print(f\"Confusion: \\n{confusion}\")\n",
    "plot_decision_boundary(lr, X_test, y_test)\n",
    "plt.show()"
   ],
   "outputs": [
    {
     "ename": "NameError",
     "evalue": "name 'evaluate_classification' is not defined",
     "output_type": "error",
     "traceback": [
      "\u001B[31m---------------------------------------------------------------------------\u001B[39m",
      "\u001B[31mNameError\u001B[39m                                 Traceback (most recent call last)",
      "\u001B[36mCell\u001B[39m\u001B[36m \u001B[39m\u001B[32mIn[21]\u001B[39m\u001B[32m, line 1\u001B[39m\n\u001B[32m----> \u001B[39m\u001B[32m1\u001B[39m accuracy, report, confusion = \u001B[43mevaluate_classification\u001B[49m(y_test, y_test_pred)\n\u001B[32m      2\u001B[39m \u001B[38;5;28mprint\u001B[39m(\u001B[33mf\u001B[39m\u001B[33m\"\u001B[39m\u001B[33mAccuracy: \u001B[39m\u001B[38;5;130;01m\\n\u001B[39;00m\u001B[38;5;132;01m{\u001B[39;00maccuracy\u001B[38;5;132;01m}\u001B[39;00m\u001B[33m\"\u001B[39m)\n\u001B[32m      3\u001B[39m \u001B[38;5;28mprint\u001B[39m(\u001B[33mf\u001B[39m\u001B[33m\"\u001B[39m\u001B[33mReport: \u001B[39m\u001B[38;5;130;01m\\n\u001B[39;00m\u001B[38;5;132;01m{\u001B[39;00mreport\u001B[38;5;132;01m}\u001B[39;00m\u001B[33m\"\u001B[39m)\n",
      "\u001B[31mNameError\u001B[39m: name 'evaluate_classification' is not defined"
     ]
    }
   ],
   "execution_count": 21
  },
  {
   "cell_type": "code",
   "metadata": {
    "ExecuteTime": {
     "end_time": "2025-03-21T11:59:29.549638Z",
     "start_time": "2025-03-21T11:59:29.529430Z"
    }
   },
   "source": [
    "X, y = make_moons(n_samples=500, noise=0.2, random_state=42)\n",
    "plot_data(X, y)"
   ],
   "outputs": [
    {
     "ename": "NameError",
     "evalue": "name 'plot_data' is not defined",
     "output_type": "error",
     "traceback": [
      "\u001B[31m---------------------------------------------------------------------------\u001B[39m",
      "\u001B[31mNameError\u001B[39m                                 Traceback (most recent call last)",
      "\u001B[36mCell\u001B[39m\u001B[36m \u001B[39m\u001B[32mIn[22]\u001B[39m\u001B[32m, line 2\u001B[39m\n\u001B[32m      1\u001B[39m X, y = make_moons(n_samples=\u001B[32m500\u001B[39m, noise=\u001B[32m0.2\u001B[39m, random_state=\u001B[32m42\u001B[39m)\n\u001B[32m----> \u001B[39m\u001B[32m2\u001B[39m \u001B[43mplot_data\u001B[49m(X, y)\n",
      "\u001B[31mNameError\u001B[39m: name 'plot_data' is not defined"
     ]
    }
   ],
   "execution_count": 22
  },
  {
   "cell_type": "code",
   "metadata": {
    "ExecuteTime": {
     "end_time": "2025-03-21T11:50:44.354205Z",
     "start_time": "2025-03-21T11:50:44.334072Z"
    }
   },
   "source": [
    "X_train, X_test, y_train, y_test = train_test_split(X, y, test_size=0.2, random_state=42)\n",
    "lr = LogisticRegression(standardize=True, learning_rate=0.01, max_iter=1000, tol=1e-4, verbose=True)\n",
    "lr.fit(X_train, y_train)\n",
    "y_test_pred = lr.predict(X_test)\n",
    "\n",
    "accuracy, report, confusion = evaluate_classification(y_test, y_test_pred)\n",
    "print(f\"Accuracy: \\n{accuracy}\")\n",
    "print(f\"Report: \\n{report}\")\n",
    "print(f\"Confusion: \\n{confusion}\")\n",
    "plot_decision_boundary(lr, X_test, y_test)\n",
    "plt.show()"
   ],
   "outputs": [
    {
     "ename": "NameError",
     "evalue": "name 'train_test_split' is not defined",
     "output_type": "error",
     "traceback": [
      "\u001B[31m---------------------------------------------------------------------------\u001B[39m",
      "\u001B[31mNameError\u001B[39m                                 Traceback (most recent call last)",
      "\u001B[36mCell\u001B[39m\u001B[36m \u001B[39m\u001B[32mIn[12]\u001B[39m\u001B[32m, line 1\u001B[39m\n\u001B[32m----> \u001B[39m\u001B[32m1\u001B[39m X_train, X_test, y_train, y_test = \u001B[43mtrain_test_split\u001B[49m(X, y, test_size=\u001B[32m0.2\u001B[39m, random_state=\u001B[32m42\u001B[39m)\n\u001B[32m      2\u001B[39m lr = LogisticRegression(standardize=\u001B[38;5;28;01mTrue\u001B[39;00m, learning_rate=\u001B[32m0.01\u001B[39m, max_iter=\u001B[32m1000\u001B[39m, tol=\u001B[32m1e-4\u001B[39m, verbose=\u001B[38;5;28;01mTrue\u001B[39;00m)\n\u001B[32m      3\u001B[39m lr.fit(X_train, y_train)\n",
      "\u001B[31mNameError\u001B[39m: name 'train_test_split' is not defined"
     ]
    }
   ],
   "execution_count": 12
  },
  {
   "attachments": {},
   "cell_type": "markdown",
   "metadata": {},
   "source": [
    "Evaluate the above LogisticRegression class on datasets sats.csv and tests.csv. Consider using polynomial features when applicable."
   ]
  },
  {
   "cell_type": "code",
   "execution_count": null,
   "metadata": {},
   "outputs": [],
   "source": [
    "data_columns = [\"exam1\", \"exam2\"]\n",
    "target_column = \"submitted\"\n",
    "X, y = load_dataset('../../Data/Classification/sats.csv', data_columns, target_column)\n",
    "\n",
    "X_train, X_test, y_train, y_test = train_test_split(X, y, test_size=0.2, random_state=42)\n",
    "print(X_train.shape, X_test.shape, y_train.shape, y_test.shape)"
   ]
  },
  {
   "cell_type": "code",
   "execution_count": null,
   "metadata": {},
   "outputs": [],
   "source": [
    "lr = LogisticRegression(standardize=True, learning_rate=0.01, max_iter=1000, tol=1e-4, verbose=True)\n",
    "lr.fit(X_train, y_train)\n",
    "y_test_pred = lr.predict(X_test)\n",
    "\n",
    "accuracy, report, confusion = evaluate_classification(y_test, y_test_pred)\n",
    "print(f\"Accuracy: \\n{accuracy}\")\n",
    "print(f\"Report: \\n{report}\")\n",
    "print(f\"Confusion: \\n{confusion}\")\n",
    "plot_decision_boundary(lr, X_test, y_test)\n",
    "plt.show()"
   ]
  }
 ],
 "metadata": {
  "anaconda-cloud": {},
  "kernelspec": {
   "display_name": "Python 3",
   "language": "python",
   "name": "python3"
  },
  "language_info": {
   "codemirror_mode": {
    "name": "ipython",
    "version": 3
   },
   "file_extension": ".py",
   "mimetype": "text/x-python",
   "name": "python",
   "nbconvert_exporter": "python",
   "pygments_lexer": "ipython3",
   "version": "3.8.10"
  },
  "vscode": {
   "interpreter": {
    "hash": "da1350d706778574eb7298bca1bd7718ec03806ad26d0510a11ed17a26830b5f"
   }
  }
 },
 "nbformat": 4,
 "nbformat_minor": 1
}
